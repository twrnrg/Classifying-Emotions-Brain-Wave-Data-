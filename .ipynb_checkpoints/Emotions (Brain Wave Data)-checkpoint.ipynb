{
 "cells": [
  {
   "cell_type": "code",
   "execution_count": 1,
   "metadata": {},
   "outputs": [],
   "source": [
    "import numpy as np\n",
    "import pandas as pd\n",
    "import matplotlib.pyplot as plt\n",
    "import seaborn as sns\n",
    "import warnings\n",
    "warnings.filterwarnings('ignore')\n",
    "%matplotlib inline"
   ]
  },
  {
   "cell_type": "code",
   "execution_count": 2,
   "metadata": {
    "scrolled": true
   },
   "outputs": [
    {
     "data": {
      "text/html": [
       "<div>\n",
       "<style scoped>\n",
       "    .dataframe tbody tr th:only-of-type {\n",
       "        vertical-align: middle;\n",
       "    }\n",
       "\n",
       "    .dataframe tbody tr th {\n",
       "        vertical-align: top;\n",
       "    }\n",
       "\n",
       "    .dataframe thead th {\n",
       "        text-align: right;\n",
       "    }\n",
       "</style>\n",
       "<table border=\"1\" class=\"dataframe\">\n",
       "  <thead>\n",
       "    <tr style=\"text-align: right;\">\n",
       "      <th></th>\n",
       "      <th># mean_0_a</th>\n",
       "      <th>mean_1_a</th>\n",
       "      <th>mean_2_a</th>\n",
       "      <th>mean_3_a</th>\n",
       "      <th>mean_4_a</th>\n",
       "      <th>mean_d_0_a</th>\n",
       "      <th>mean_d_1_a</th>\n",
       "      <th>mean_d_2_a</th>\n",
       "      <th>mean_d_3_a</th>\n",
       "      <th>mean_d_4_a</th>\n",
       "      <th>...</th>\n",
       "      <th>fft_741_b</th>\n",
       "      <th>fft_742_b</th>\n",
       "      <th>fft_743_b</th>\n",
       "      <th>fft_744_b</th>\n",
       "      <th>fft_745_b</th>\n",
       "      <th>fft_746_b</th>\n",
       "      <th>fft_747_b</th>\n",
       "      <th>fft_748_b</th>\n",
       "      <th>fft_749_b</th>\n",
       "      <th>label</th>\n",
       "    </tr>\n",
       "  </thead>\n",
       "  <tbody>\n",
       "    <tr>\n",
       "      <th>0</th>\n",
       "      <td>4.62</td>\n",
       "      <td>30.3</td>\n",
       "      <td>-356.0</td>\n",
       "      <td>15.6</td>\n",
       "      <td>26.3</td>\n",
       "      <td>1.070</td>\n",
       "      <td>0.411</td>\n",
       "      <td>-15.70</td>\n",
       "      <td>2.06</td>\n",
       "      <td>3.15</td>\n",
       "      <td>...</td>\n",
       "      <td>23.5</td>\n",
       "      <td>20.3</td>\n",
       "      <td>20.3</td>\n",
       "      <td>23.5</td>\n",
       "      <td>-215.0</td>\n",
       "      <td>280.00</td>\n",
       "      <td>-162.00</td>\n",
       "      <td>-162.00</td>\n",
       "      <td>280.00</td>\n",
       "      <td>NEGATIVE</td>\n",
       "    </tr>\n",
       "    <tr>\n",
       "      <th>1</th>\n",
       "      <td>28.80</td>\n",
       "      <td>33.1</td>\n",
       "      <td>32.0</td>\n",
       "      <td>25.8</td>\n",
       "      <td>22.8</td>\n",
       "      <td>6.550</td>\n",
       "      <td>1.680</td>\n",
       "      <td>2.88</td>\n",
       "      <td>3.83</td>\n",
       "      <td>-4.82</td>\n",
       "      <td>...</td>\n",
       "      <td>-23.3</td>\n",
       "      <td>-21.8</td>\n",
       "      <td>-21.8</td>\n",
       "      <td>-23.3</td>\n",
       "      <td>182.0</td>\n",
       "      <td>2.57</td>\n",
       "      <td>-31.60</td>\n",
       "      <td>-31.60</td>\n",
       "      <td>2.57</td>\n",
       "      <td>NEUTRAL</td>\n",
       "    </tr>\n",
       "    <tr>\n",
       "      <th>2</th>\n",
       "      <td>8.90</td>\n",
       "      <td>29.4</td>\n",
       "      <td>-416.0</td>\n",
       "      <td>16.7</td>\n",
       "      <td>23.7</td>\n",
       "      <td>79.900</td>\n",
       "      <td>3.360</td>\n",
       "      <td>90.20</td>\n",
       "      <td>89.90</td>\n",
       "      <td>2.03</td>\n",
       "      <td>...</td>\n",
       "      <td>462.0</td>\n",
       "      <td>-233.0</td>\n",
       "      <td>-233.0</td>\n",
       "      <td>462.0</td>\n",
       "      <td>-267.0</td>\n",
       "      <td>281.00</td>\n",
       "      <td>-148.00</td>\n",
       "      <td>-148.00</td>\n",
       "      <td>281.00</td>\n",
       "      <td>POSITIVE</td>\n",
       "    </tr>\n",
       "    <tr>\n",
       "      <th>3</th>\n",
       "      <td>14.90</td>\n",
       "      <td>31.6</td>\n",
       "      <td>-143.0</td>\n",
       "      <td>19.8</td>\n",
       "      <td>24.3</td>\n",
       "      <td>-0.584</td>\n",
       "      <td>-0.284</td>\n",
       "      <td>8.82</td>\n",
       "      <td>2.30</td>\n",
       "      <td>-1.97</td>\n",
       "      <td>...</td>\n",
       "      <td>299.0</td>\n",
       "      <td>-243.0</td>\n",
       "      <td>-243.0</td>\n",
       "      <td>299.0</td>\n",
       "      <td>132.0</td>\n",
       "      <td>-12.40</td>\n",
       "      <td>9.53</td>\n",
       "      <td>9.53</td>\n",
       "      <td>-12.40</td>\n",
       "      <td>POSITIVE</td>\n",
       "    </tr>\n",
       "    <tr>\n",
       "      <th>4</th>\n",
       "      <td>28.30</td>\n",
       "      <td>31.3</td>\n",
       "      <td>45.2</td>\n",
       "      <td>27.3</td>\n",
       "      <td>24.5</td>\n",
       "      <td>34.800</td>\n",
       "      <td>-5.790</td>\n",
       "      <td>3.06</td>\n",
       "      <td>41.40</td>\n",
       "      <td>5.52</td>\n",
       "      <td>...</td>\n",
       "      <td>12.0</td>\n",
       "      <td>38.1</td>\n",
       "      <td>38.1</td>\n",
       "      <td>12.0</td>\n",
       "      <td>119.0</td>\n",
       "      <td>-17.60</td>\n",
       "      <td>23.90</td>\n",
       "      <td>23.90</td>\n",
       "      <td>-17.60</td>\n",
       "      <td>NEUTRAL</td>\n",
       "    </tr>\n",
       "  </tbody>\n",
       "</table>\n",
       "<p>5 rows × 2549 columns</p>\n",
       "</div>"
      ],
      "text/plain": [
       "   # mean_0_a  mean_1_a  mean_2_a  mean_3_a  mean_4_a  mean_d_0_a  mean_d_1_a  \\\n",
       "0        4.62      30.3    -356.0      15.6      26.3       1.070       0.411   \n",
       "1       28.80      33.1      32.0      25.8      22.8       6.550       1.680   \n",
       "2        8.90      29.4    -416.0      16.7      23.7      79.900       3.360   \n",
       "3       14.90      31.6    -143.0      19.8      24.3      -0.584      -0.284   \n",
       "4       28.30      31.3      45.2      27.3      24.5      34.800      -5.790   \n",
       "\n",
       "   mean_d_2_a  mean_d_3_a  mean_d_4_a  ...  fft_741_b  fft_742_b  fft_743_b  \\\n",
       "0      -15.70        2.06        3.15  ...       23.5       20.3       20.3   \n",
       "1        2.88        3.83       -4.82  ...      -23.3      -21.8      -21.8   \n",
       "2       90.20       89.90        2.03  ...      462.0     -233.0     -233.0   \n",
       "3        8.82        2.30       -1.97  ...      299.0     -243.0     -243.0   \n",
       "4        3.06       41.40        5.52  ...       12.0       38.1       38.1   \n",
       "\n",
       "   fft_744_b  fft_745_b  fft_746_b  fft_747_b  fft_748_b  fft_749_b     label  \n",
       "0       23.5     -215.0     280.00    -162.00    -162.00     280.00  NEGATIVE  \n",
       "1      -23.3      182.0       2.57     -31.60     -31.60       2.57   NEUTRAL  \n",
       "2      462.0     -267.0     281.00    -148.00    -148.00     281.00  POSITIVE  \n",
       "3      299.0      132.0     -12.40       9.53       9.53     -12.40  POSITIVE  \n",
       "4       12.0      119.0     -17.60      23.90      23.90     -17.60   NEUTRAL  \n",
       "\n",
       "[5 rows x 2549 columns]"
      ]
     },
     "execution_count": 2,
     "metadata": {},
     "output_type": "execute_result"
    }
   ],
   "source": [
    "train_df=pd.read_csv('emotions.csv')\n",
    "train_df.head()"
   ]
  },
  {
   "cell_type": "code",
   "execution_count": 4,
   "metadata": {
    "scrolled": false
   },
   "outputs": [
    {
     "data": {
      "text/plain": [
       "<bound method NDFrame.describe of       # mean_0_a  mean_1_a  mean_2_a  mean_3_a  mean_4_a  mean_d_0_a  \\\n",
       "0          4.620     30.30   -356.00    15.600      26.3      1.0700   \n",
       "1         28.800     33.10     32.00    25.800      22.8      6.5500   \n",
       "2          8.900     29.40   -416.00    16.700      23.7     79.9000   \n",
       "3         14.900     31.60   -143.00    19.800      24.3     -0.5840   \n",
       "4         28.300     31.30     45.20    27.300      24.5     34.8000   \n",
       "5         31.000     30.90     29.60    28.500      24.0      1.6500   \n",
       "6         10.800     21.00     44.70     4.870      28.1      2.1400   \n",
       "7         17.800     27.80   -102.00    16.900      26.9     -3.2100   \n",
       "8         11.500     29.70     34.90    10.200      26.9    -38.0000   \n",
       "9          8.910     29.20   -314.00     6.510      30.9     -1.8800   \n",
       "10         5.210     28.40     18.50     3.660      22.6     -0.1190   \n",
       "11        13.300     30.40   -149.00    11.800      28.3      3.0300   \n",
       "12        30.100     32.70     29.40    28.300      24.3     -6.0500   \n",
       "13        19.300     31.70     -4.56    23.800      32.9     -3.4100   \n",
       "14        28.800     31.80     30.10    26.900      21.8     -0.3550   \n",
       "15        12.700     23.80   -193.00    11.100      27.6     -3.7200   \n",
       "16         0.425     34.90     53.90   -11.900      22.6     12.4000   \n",
       "17        28.900     30.80     29.40    27.400      25.1     -7.8600   \n",
       "18       -14.100     21.90   -946.00     8.930      22.6      0.0289   \n",
       "19         8.740     27.60   -399.00    15.000      28.1     -5.8600   \n",
       "20        10.300     33.20   -217.00    18.900      27.5     -0.3880   \n",
       "21        29.700     31.20     -8.70    27.400      26.6     -7.2300   \n",
       "22        14.100     28.50   -137.00    14.400      27.4     23.3000   \n",
       "23         8.530     25.40   -295.00     6.780      29.6      3.2000   \n",
       "24         4.560     30.00     23.80    -9.910      21.5     -0.0514   \n",
       "25        28.800     30.10     28.80    27.800      21.8      3.0200   \n",
       "26        12.500     25.90   -288.00     8.160      26.8     -0.3470   \n",
       "27        29.200     31.00     29.20    28.300      25.2     15.0000   \n",
       "28        13.000     29.20   -307.00    17.800      26.3      2.2700   \n",
       "29        11.600     31.10   -473.00    16.800      25.4      2.8100   \n",
       "...          ...       ...       ...       ...       ...         ...   \n",
       "2102       4.610     23.00   -395.00     3.110      27.8      1.2100   \n",
       "2103      14.200     31.80   -252.00    14.500      27.0     -2.0100   \n",
       "2104       4.820     31.40     62.00    24.200     -73.1     -1.5200   \n",
       "2105      35.100     36.10     26.70    31.400      27.2      4.2600   \n",
       "2106      15.400     30.30    -61.50    15.500      25.4     -1.3600   \n",
       "2107      28.300     30.10     29.00    28.100      26.8      3.7300   \n",
       "2108       6.220     17.80     25.10    -2.270      23.6     -6.1300   \n",
       "2109      10.300     24.30     24.00     2.570      24.4     -0.8170   \n",
       "2110      13.300     30.00   -175.00    17.700      25.0     -6.8000   \n",
       "2111      -0.475     10.30     25.30    -7.950      24.6      0.6340   \n",
       "2112       1.580     26.70     27.80   -14.500      24.1     79.3000   \n",
       "2113      -9.780    -22.80     20.00   -26.700    -134.0      0.8220   \n",
       "2114      26.700     29.60     31.70    27.000      24.3     -0.7090   \n",
       "2115       3.790     30.00     16.80     0.542      23.2      2.0400   \n",
       "2116      22.800     32.60   -136.00    21.100      29.8    -15.7000   \n",
       "2117      29.100     32.20     25.30    26.100      25.4     -5.2200   \n",
       "2118      27.400     30.40     28.30    25.600      24.2     -5.1600   \n",
       "2119     -30.300      5.21     17.90   -43.400      20.4    -51.9000   \n",
       "2120      16.000     33.80   -132.00    14.500      28.9      3.7900   \n",
       "2121       8.100     30.10     21.10     1.840      22.7      0.8960   \n",
       "2122      28.800     29.90     35.70    27.900      26.1     -2.8800   \n",
       "2123      31.000     32.00     34.50    28.900      25.0     -0.0958   \n",
       "2124       6.160     18.90   -245.00     0.257      28.4      5.1500   \n",
       "2125      27.500     29.10     25.30    26.300      25.5     -0.9260   \n",
       "2126      -5.290      3.27     14.20   -15.500      16.6      1.2600   \n",
       "2127      32.400     32.20     32.20    30.800      23.4      1.6400   \n",
       "2128      16.300     31.30   -284.00    14.300      23.9      4.2000   \n",
       "2129      -0.547     28.30   -259.00    15.800      26.7      9.0800   \n",
       "2130      16.800     19.90   -288.00     8.340      26.0      2.4600   \n",
       "2131      27.000     32.00     31.80    25.000      28.9      4.9900   \n",
       "\n",
       "      mean_d_1_a  mean_d_2_a  mean_d_3_a  mean_d_4_a  ...  fft_741_b  \\\n",
       "0         0.4110     -15.700       2.060       3.150  ...      23.50   \n",
       "1         1.6800       2.880       3.830      -4.820  ...     -23.30   \n",
       "2         3.3600      90.200      89.900       2.030  ...     462.00   \n",
       "3        -0.2840       8.820       2.300      -1.970  ...     299.00   \n",
       "4        -5.7900       3.060      41.400       5.520  ...      12.00   \n",
       "5         1.5400       3.830       1.870      -1.210  ...      -1.48   \n",
       "6         1.0200      13.200       1.160      -4.390  ...     -15.60   \n",
       "7        -1.9500       9.800      -3.240      -0.955  ...    -177.00   \n",
       "8        -1.6500       3.890     -33.500      -3.300  ...      -8.38   \n",
       "9         1.9000      11.900      -3.600       5.700  ...     226.00   \n",
       "10       -2.3500       5.070       0.461      -4.260  ...      -4.25   \n",
       "11        0.8950      -4.520       1.720      -0.633  ...       6.11   \n",
       "12       -3.9400       1.690      -3.570       6.020  ...      12.00   \n",
       "13        0.6770      46.600       6.800       3.890  ...     244.00   \n",
       "14        0.4650       3.820       0.442      -1.830  ...       8.68   \n",
       "15        2.0500      19.800      -0.804      -2.870  ...     543.00   \n",
       "16       -2.7200      -4.860       5.290      -1.040  ...      18.60   \n",
       "17        1.0200       0.499      -8.500      -1.260  ...     -33.10   \n",
       "18        1.2800      16.400       9.200       4.260  ...     821.00   \n",
       "19       -1.8800       9.100       2.070      -6.290  ...     326.00   \n",
       "20        0.4900      12.000       2.880       0.789  ...     463.00   \n",
       "21        1.9400      -9.290      -5.240       3.500  ...     -11.40   \n",
       "22      -11.3000      18.700      29.200      -3.270  ...    -269.00   \n",
       "23       -0.1840       7.330       3.470       0.870  ...     351.00   \n",
       "24        3.3400       3.380      -1.280      -3.190  ...     -68.00   \n",
       "25        1.7100       0.357       0.357       3.360  ...       5.99   \n",
       "26        0.6050      -2.860       4.690       3.980  ...     602.00   \n",
       "27       -4.1300       1.880      16.300      -3.600  ...     -32.70   \n",
       "28       -0.3850       9.820      -2.040       4.130  ...      72.50   \n",
       "29        1.6500      25.700       0.684       1.240  ...     573.00   \n",
       "...          ...         ...         ...         ...  ...        ...   \n",
       "2102     -0.9270       9.370       1.810       2.860  ...     444.00   \n",
       "2103     -0.2630      37.600       2.490       2.150  ...     410.00   \n",
       "2104     -2.4400     -25.000       3.160      14.000  ...     -33.80   \n",
       "2105      2.6400      -1.370       3.270       4.120  ...      -3.83   \n",
       "2106     -0.4180      -2.260      -3.550       0.960  ...     -15.80   \n",
       "2107      0.0378       2.410       3.370       0.751  ...       3.47   \n",
       "2108     -0.5170      -1.920      -6.060       4.360  ...     -16.70   \n",
       "2109     -0.1720       0.626      -0.558       4.750  ...      23.20   \n",
       "2110     -2.3400     -15.800      -7.100      -0.221  ...     204.00   \n",
       "2111     -1.5900       2.150      -2.690      -3.090  ...     -40.70   \n",
       "2112      3.0500     -29.700      81.000       1.860  ...     -30.10   \n",
       "2113      5.6800      -3.890      -8.860      10.600  ...     -46.80   \n",
       "2114     -3.0400       1.770       2.730       0.637  ...      17.00   \n",
       "2115      4.8800       6.850       1.350       4.090  ...     -15.30   \n",
       "2116      1.0700       2.000     -17.400      -1.870  ...      40.80   \n",
       "2117     -0.3020       2.430      -2.730      -0.766  ...       7.78   \n",
       "2118     -0.7920      -3.630      -4.530       1.200  ...      33.70   \n",
       "2119      3.5500       4.770     -53.000      -2.370  ...      12.40   \n",
       "2120     -0.0598      -5.490       4.000      -1.290  ...     264.00   \n",
       "2121     -6.5600       3.350       0.452     -12.400  ...      46.60   \n",
       "2122      0.6730      -3.670      -2.120       5.930  ...     -16.90   \n",
       "2123      1.0500       0.663      -0.142      -2.300  ...      10.50   \n",
       "2124      3.3000       2.820       1.860       1.120  ...     458.00   \n",
       "2125      0.3060       0.251      -2.640       2.510  ...     -29.30   \n",
       "2126     -2.5700      -9.130       3.330      -3.330  ...      27.60   \n",
       "2127     -2.0300       0.647      -0.121      -1.100  ...     -21.70   \n",
       "2128      1.0900       4.460       4.720       6.630  ...     594.00   \n",
       "2129      6.9000      12.700       2.030       4.640  ...     370.00   \n",
       "2130      1.5800     -16.000       1.690       4.740  ...     124.00   \n",
       "2131      1.9500       6.210       3.490      -3.510  ...       1.95   \n",
       "\n",
       "      fft_742_b  fft_743_b  fft_744_b  fft_745_b  fft_746_b  fft_747_b  \\\n",
       "0        20.300     20.300      23.50    -215.00    280.000    -162.00   \n",
       "1       -21.800    -21.800     -23.30     182.00      2.570     -31.60   \n",
       "2      -233.000   -233.000     462.00    -267.00    281.000    -148.00   \n",
       "3      -243.000   -243.000     299.00     132.00    -12.400       9.53   \n",
       "4        38.100     38.100      12.00     119.00    -17.600      23.90   \n",
       "5        30.200     30.200      -1.48     134.00      3.590     -12.70   \n",
       "6       -41.000    -41.000     -15.60      89.50     40.600     -55.20   \n",
       "7        32.800     32.800    -177.00    -417.00    384.000    -186.00   \n",
       "8        38.700     38.700      -8.38     115.00     -7.000       3.20   \n",
       "9       -81.800    -81.800     226.00       1.84     99.400     -40.30   \n",
       "10      -47.800    -47.800      -4.25      99.60     11.200      41.70   \n",
       "11       20.000     20.000       6.11     -53.00    176.000    -167.00   \n",
       "12      -21.500    -21.500      12.00     152.00     23.600     -16.40   \n",
       "13     -144.000   -144.000     244.00      18.50    -14.800      10.30   \n",
       "14      -28.700    -28.700       8.68     157.00    -17.300       4.93   \n",
       "15     -197.000   -197.000     543.00    -499.00    427.000    -161.00   \n",
       "16       -6.220     -6.220      18.60      47.90    -21.200     -61.50   \n",
       "17       -0.520     -0.520     -33.10      95.10      1.830      15.80   \n",
       "18     -423.000   -423.000     821.00    -671.00    678.000    -249.00   \n",
       "19     -185.000   -185.000     326.00    -106.00    156.000     -43.40   \n",
       "20     -184.000   -184.000     463.00     283.00    -28.400     -29.80   \n",
       "21       49.000     49.000     -11.40      67.60    -22.700      45.30   \n",
       "22      211.000    211.000    -269.00       1.72    266.000      23.20   \n",
       "23     -171.000   -171.000     351.00      96.50     61.200     -17.00   \n",
       "24     -144.000   -144.000     -68.00     -29.00    -69.700    -132.00   \n",
       "25       -0.702     -0.702       5.99     174.00     21.800     -63.90   \n",
       "26     -273.000   -273.000     602.00    -107.00    167.000      -1.72   \n",
       "27       74.800     74.800     -32.70      77.70     -3.240      23.30   \n",
       "28       -7.700     -7.700      72.50     -92.00    106.000      -1.39   \n",
       "29     -296.000   -296.000     573.00    -367.00    346.000    -132.00   \n",
       "...         ...        ...        ...        ...        ...        ...   \n",
       "2102   -103.000   -103.000     444.00     -92.80    193.000     -90.60   \n",
       "2103   -225.000   -225.000     410.00      44.10    124.000     -51.50   \n",
       "2104     -5.550     -5.550     -33.80     155.00    -14.100     -13.30   \n",
       "2105     -8.800     -8.800      -3.83     135.00      3.570      -2.03   \n",
       "2106     44.200     44.200     -15.80    -509.00    431.000    -161.00   \n",
       "2107     13.700     13.700       3.47     176.00     -5.600     -19.20   \n",
       "2108     -0.714     -0.714     -16.70      66.60     18.500      26.70   \n",
       "2109    -73.900    -73.900      23.20      98.50     45.100     -10.70   \n",
       "2110   -103.000   -103.000     204.00     394.00   -177.000      29.80   \n",
       "2111    -28.100    -28.100     -40.70     132.00     27.700     -47.00   \n",
       "2112    -17.700    -17.700     -30.10     129.00     45.200     -49.00   \n",
       "2113    107.000    107.000     -46.80    -218.00    -28.900      36.00   \n",
       "2114      0.893      0.893      17.00     151.00      2.790      -2.56   \n",
       "2115    -55.900    -55.900     -15.30      43.70     32.500     -50.40   \n",
       "2116     23.500     23.500      40.80     157.00     41.900     -35.30   \n",
       "2117    -39.000    -39.000       7.78     175.00     -8.580      -8.26   \n",
       "2118    -30.400    -30.400      33.70     141.00     -0.548       3.08   \n",
       "2119     20.000     20.000      12.40      42.80      5.980      27.50   \n",
       "2120    -65.700    -65.700     264.00     164.00     16.700       7.62   \n",
       "2121      6.690      6.690      46.60     104.00     34.000      76.70   \n",
       "2122     64.600     64.600     -16.90     184.00     -1.930      -2.57   \n",
       "2123    -36.300    -36.300      10.50     160.00    -19.000     -19.50   \n",
       "2124   -221.000   -221.000     458.00     301.00    -98.900      32.70   \n",
       "2125     29.000     29.000     -29.30     183.00      7.040     -48.80   \n",
       "2126     13.300     13.300      27.60      43.70     32.600     -11.30   \n",
       "2127      0.218      0.218     -21.70      95.20    -19.900      47.20   \n",
       "2128   -324.000   -324.000     594.00     -35.50    142.000     -59.80   \n",
       "2129   -160.000   -160.000     370.00     408.00   -169.000     -10.50   \n",
       "2130    -27.600    -27.600     124.00    -656.00    552.000    -271.00   \n",
       "2131      1.810      1.810       1.95     110.00     -6.710      22.80   \n",
       "\n",
       "      fft_748_b  fft_749_b     label  \n",
       "0       -162.00    280.000  NEGATIVE  \n",
       "1        -31.60      2.570   NEUTRAL  \n",
       "2       -148.00    281.000  POSITIVE  \n",
       "3          9.53    -12.400  POSITIVE  \n",
       "4         23.90    -17.600   NEUTRAL  \n",
       "5        -12.70      3.590   NEUTRAL  \n",
       "6        -55.20     40.600  POSITIVE  \n",
       "7       -186.00    384.000  NEGATIVE  \n",
       "8          3.20     -7.000   NEUTRAL  \n",
       "9        -40.30     99.400  NEGATIVE  \n",
       "10        41.70     11.200  POSITIVE  \n",
       "11      -167.00    176.000  NEGATIVE  \n",
       "12       -16.40     23.600   NEUTRAL  \n",
       "13        10.30    -14.800  NEGATIVE  \n",
       "14         4.93    -17.300   NEUTRAL  \n",
       "15      -161.00    427.000  NEGATIVE  \n",
       "16       -61.50    -21.200  POSITIVE  \n",
       "17        15.80      1.830   NEUTRAL  \n",
       "18      -249.00    678.000  NEGATIVE  \n",
       "19       -43.40    156.000  NEGATIVE  \n",
       "20       -29.80    -28.400  NEGATIVE  \n",
       "21        45.30    -22.700   NEUTRAL  \n",
       "22        23.20    266.000  NEGATIVE  \n",
       "23       -17.00     61.200  NEGATIVE  \n",
       "24      -132.00    -69.700  POSITIVE  \n",
       "25       -63.90     21.800   NEUTRAL  \n",
       "26        -1.72    167.000  NEGATIVE  \n",
       "27        23.30     -3.240   NEUTRAL  \n",
       "28        -1.39    106.000  POSITIVE  \n",
       "29      -132.00    346.000  POSITIVE  \n",
       "...         ...        ...       ...  \n",
       "2102     -90.60    193.000  NEGATIVE  \n",
       "2103     -51.50    124.000  POSITIVE  \n",
       "2104     -13.30    -14.100  POSITIVE  \n",
       "2105      -2.03      3.570   NEUTRAL  \n",
       "2106    -161.00    431.000  POSITIVE  \n",
       "2107     -19.20     -5.600   NEUTRAL  \n",
       "2108      26.70     18.500  POSITIVE  \n",
       "2109     -10.70     45.100  POSITIVE  \n",
       "2110      29.80   -177.000  NEGATIVE  \n",
       "2111     -47.00     27.700  POSITIVE  \n",
       "2112     -49.00     45.200  POSITIVE  \n",
       "2113      36.00    -28.900  POSITIVE  \n",
       "2114      -2.56      2.790   NEUTRAL  \n",
       "2115     -50.40     32.500  POSITIVE  \n",
       "2116     -35.30     41.900  NEGATIVE  \n",
       "2117      -8.26     -8.580   NEUTRAL  \n",
       "2118       3.08     -0.548   NEUTRAL  \n",
       "2119      27.50      5.980  POSITIVE  \n",
       "2120       7.62     16.700  NEGATIVE  \n",
       "2121      76.70     34.000  POSITIVE  \n",
       "2122      -2.57     -1.930   NEUTRAL  \n",
       "2123     -19.50    -19.000   NEUTRAL  \n",
       "2124      32.70    -98.900  NEGATIVE  \n",
       "2125     -48.80      7.040   NEUTRAL  \n",
       "2126     -11.30     32.600  POSITIVE  \n",
       "2127      47.20    -19.900   NEUTRAL  \n",
       "2128     -59.80    142.000  POSITIVE  \n",
       "2129     -10.50   -169.000  NEGATIVE  \n",
       "2130    -271.00    552.000  NEGATIVE  \n",
       "2131      22.80     -6.710   NEUTRAL  \n",
       "\n",
       "[2132 rows x 2549 columns]>"
      ]
     },
     "execution_count": 4,
     "metadata": {},
     "output_type": "execute_result"
    }
   ],
   "source": [
    "train_df.describe"
   ]
  },
  {
   "cell_type": "code",
   "execution_count": 5,
   "metadata": {},
   "outputs": [],
   "source": [
    "# Data contains variables: fft(Fast fourier Tranform), correlate, entropy, logm, eigen, covmat, min_q, max_q\n",
    "# moments, mean, stddev\n",
    "# All are numerical type variable (float)\n",
    "#output is Label : Postive/Negative/Neutral\n"
   ]
  },
  {
   "cell_type": "code",
   "execution_count": 6,
   "metadata": {},
   "outputs": [
    {
     "data": {
      "text/plain": [
       "Text(0, 0.5, 'Class count')"
      ]
     },
     "execution_count": 6,
     "metadata": {},
     "output_type": "execute_result"
    },
    {
     "data": {
      "image/png": "[encoded data removed]",
      "text/plain": [
       "<Figure size 864x360 with 1 Axes>"
      ]
     },
     "metadata": {
      "needs_background": "light"
     },
     "output_type": "display_data"
    }
   ],
   "source": [
    "#class distribution from column label (Output is label)\n",
    "plt.figure(figsize=(12,5))\n",
    "sns.countplot(x=train_df.label, color='red')\n",
    "plt.title('Brain Wave Data', fontsize=14)\n",
    "plt.xlabel('Class Label', fontsize=14)\n",
    "plt.ylabel('Class count', fontsize=14)"
   ]
  },
  {
   "cell_type": "code",
   "execution_count": 7,
   "metadata": {},
   "outputs": [
    {
     "data": {
      "text/plain": [
       "# mean_0_a     0\n",
       "mean_1_a       0\n",
       "mean_2_a       0\n",
       "mean_3_a       0\n",
       "mean_4_a       0\n",
       "mean_d_0_a     0\n",
       "mean_d_1_a     0\n",
       "mean_d_2_a     0\n",
       "mean_d_3_a     0\n",
       "mean_d_4_a     0\n",
       "mean_d_0_a2    0\n",
       "mean_d_1_a2    0\n",
       "mean_d_2_a2    0\n",
       "mean_d_3_a2    0\n",
       "mean_d_4_a2    0\n",
       "mean_d_5_a     0\n",
       "mean_d_6_a     0\n",
       "mean_d_7_a     0\n",
       "mean_d_8_a     0\n",
       "mean_d_9_a     0\n",
       "mean_d_10_a    0\n",
       "mean_d_11_a    0\n",
       "mean_d_12_a    0\n",
       "mean_d_13_a    0\n",
       "mean_d_14_a    0\n",
       "mean_d_15_a    0\n",
       "mean_d_16_a    0\n",
       "mean_d_17_a    0\n",
       "mean_d_18_a    0\n",
       "mean_d_19_a    0\n",
       "              ..\n",
       "fft_721_b      0\n",
       "fft_722_b      0\n",
       "fft_723_b      0\n",
       "fft_724_b      0\n",
       "fft_725_b      0\n",
       "fft_726_b      0\n",
       "fft_727_b      0\n",
       "fft_728_b      0\n",
       "fft_729_b      0\n",
       "fft_730_b      0\n",
       "fft_731_b      0\n",
       "fft_732_b      0\n",
       "fft_733_b      0\n",
       "fft_734_b      0\n",
       "fft_735_b      0\n",
       "fft_736_b      0\n",
       "fft_737_b      0\n",
       "fft_738_b      0\n",
       "fft_739_b      0\n",
       "fft_740_b      0\n",
       "fft_741_b      0\n",
       "fft_742_b      0\n",
       "fft_743_b      0\n",
       "fft_744_b      0\n",
       "fft_745_b      0\n",
       "fft_746_b      0\n",
       "fft_747_b      0\n",
       "fft_748_b      0\n",
       "fft_749_b      0\n",
       "label          0\n",
       "Length: 2549, dtype: int64"
      ]
     },
     "execution_count": 7,
     "metadata": {},
     "output_type": "execute_result"
    }
   ],
   "source": [
    "#Null data\n",
    "train_df.isnull().sum()"
   ]
  },
  {
   "cell_type": "code",
   "execution_count": 3,
   "metadata": {},
   "outputs": [
    {
     "data": {
      "text/html": [
       "<div>\n",
       "<style scoped>\n",
       "    .dataframe tbody tr th:only-of-type {\n",
       "        vertical-align: middle;\n",
       "    }\n",
       "\n",
       "    .dataframe tbody tr th {\n",
       "        vertical-align: top;\n",
       "    }\n",
       "\n",
       "    .dataframe thead th {\n",
       "        text-align: right;\n",
       "    }\n",
       "</style>\n",
       "<table border=\"1\" class=\"dataframe\">\n",
       "  <thead>\n",
       "    <tr style=\"text-align: right;\">\n",
       "      <th></th>\n",
       "      <th># mean_0_a</th>\n",
       "      <th>mean_1_a</th>\n",
       "      <th>mean_2_a</th>\n",
       "      <th>mean_3_a</th>\n",
       "      <th>mean_4_a</th>\n",
       "      <th>mean_d_0_a</th>\n",
       "      <th>mean_d_1_a</th>\n",
       "      <th>mean_d_2_a</th>\n",
       "      <th>mean_d_3_a</th>\n",
       "      <th>mean_d_4_a</th>\n",
       "      <th>...</th>\n",
       "      <th>fft_740_b</th>\n",
       "      <th>fft_741_b</th>\n",
       "      <th>fft_742_b</th>\n",
       "      <th>fft_743_b</th>\n",
       "      <th>fft_744_b</th>\n",
       "      <th>fft_745_b</th>\n",
       "      <th>fft_746_b</th>\n",
       "      <th>fft_747_b</th>\n",
       "      <th>fft_748_b</th>\n",
       "      <th>fft_749_b</th>\n",
       "    </tr>\n",
       "  </thead>\n",
       "  <tbody>\n",
       "    <tr>\n",
       "      <th>0</th>\n",
       "      <td>4.62</td>\n",
       "      <td>30.3</td>\n",
       "      <td>-356.0</td>\n",
       "      <td>15.6</td>\n",
       "      <td>26.3</td>\n",
       "      <td>1.070</td>\n",
       "      <td>0.411</td>\n",
       "      <td>-15.70</td>\n",
       "      <td>2.06</td>\n",
       "      <td>3.15</td>\n",
       "      <td>...</td>\n",
       "      <td>74.3</td>\n",
       "      <td>23.5</td>\n",
       "      <td>20.3</td>\n",
       "      <td>20.3</td>\n",
       "      <td>23.5</td>\n",
       "      <td>-215.0</td>\n",
       "      <td>280.00</td>\n",
       "      <td>-162.00</td>\n",
       "      <td>-162.00</td>\n",
       "      <td>280.00</td>\n",
       "    </tr>\n",
       "    <tr>\n",
       "      <th>1</th>\n",
       "      <td>28.80</td>\n",
       "      <td>33.1</td>\n",
       "      <td>32.0</td>\n",
       "      <td>25.8</td>\n",
       "      <td>22.8</td>\n",
       "      <td>6.550</td>\n",
       "      <td>1.680</td>\n",
       "      <td>2.88</td>\n",
       "      <td>3.83</td>\n",
       "      <td>-4.82</td>\n",
       "      <td>...</td>\n",
       "      <td>130.0</td>\n",
       "      <td>-23.3</td>\n",
       "      <td>-21.8</td>\n",
       "      <td>-21.8</td>\n",
       "      <td>-23.3</td>\n",
       "      <td>182.0</td>\n",
       "      <td>2.57</td>\n",
       "      <td>-31.60</td>\n",
       "      <td>-31.60</td>\n",
       "      <td>2.57</td>\n",
       "    </tr>\n",
       "    <tr>\n",
       "      <th>2</th>\n",
       "      <td>8.90</td>\n",
       "      <td>29.4</td>\n",
       "      <td>-416.0</td>\n",
       "      <td>16.7</td>\n",
       "      <td>23.7</td>\n",
       "      <td>79.900</td>\n",
       "      <td>3.360</td>\n",
       "      <td>90.20</td>\n",
       "      <td>89.90</td>\n",
       "      <td>2.03</td>\n",
       "      <td>...</td>\n",
       "      <td>-534.0</td>\n",
       "      <td>462.0</td>\n",
       "      <td>-233.0</td>\n",
       "      <td>-233.0</td>\n",
       "      <td>462.0</td>\n",
       "      <td>-267.0</td>\n",
       "      <td>281.00</td>\n",
       "      <td>-148.00</td>\n",
       "      <td>-148.00</td>\n",
       "      <td>281.00</td>\n",
       "    </tr>\n",
       "    <tr>\n",
       "      <th>3</th>\n",
       "      <td>14.90</td>\n",
       "      <td>31.6</td>\n",
       "      <td>-143.0</td>\n",
       "      <td>19.8</td>\n",
       "      <td>24.3</td>\n",
       "      <td>-0.584</td>\n",
       "      <td>-0.284</td>\n",
       "      <td>8.82</td>\n",
       "      <td>2.30</td>\n",
       "      <td>-1.97</td>\n",
       "      <td>...</td>\n",
       "      <td>-183.0</td>\n",
       "      <td>299.0</td>\n",
       "      <td>-243.0</td>\n",
       "      <td>-243.0</td>\n",
       "      <td>299.0</td>\n",
       "      <td>132.0</td>\n",
       "      <td>-12.40</td>\n",
       "      <td>9.53</td>\n",
       "      <td>9.53</td>\n",
       "      <td>-12.40</td>\n",
       "    </tr>\n",
       "    <tr>\n",
       "      <th>4</th>\n",
       "      <td>28.30</td>\n",
       "      <td>31.3</td>\n",
       "      <td>45.2</td>\n",
       "      <td>27.3</td>\n",
       "      <td>24.5</td>\n",
       "      <td>34.800</td>\n",
       "      <td>-5.790</td>\n",
       "      <td>3.06</td>\n",
       "      <td>41.40</td>\n",
       "      <td>5.52</td>\n",
       "      <td>...</td>\n",
       "      <td>114.0</td>\n",
       "      <td>12.0</td>\n",
       "      <td>38.1</td>\n",
       "      <td>38.1</td>\n",
       "      <td>12.0</td>\n",
       "      <td>119.0</td>\n",
       "      <td>-17.60</td>\n",
       "      <td>23.90</td>\n",
       "      <td>23.90</td>\n",
       "      <td>-17.60</td>\n",
       "    </tr>\n",
       "  </tbody>\n",
       "</table>\n",
       "<p>5 rows × 2548 columns</p>\n",
       "</div>"
      ],
      "text/plain": [
       "   # mean_0_a  mean_1_a  mean_2_a  mean_3_a  mean_4_a  mean_d_0_a  mean_d_1_a  \\\n",
       "0        4.62      30.3    -356.0      15.6      26.3       1.070       0.411   \n",
       "1       28.80      33.1      32.0      25.8      22.8       6.550       1.680   \n",
       "2        8.90      29.4    -416.0      16.7      23.7      79.900       3.360   \n",
       "3       14.90      31.6    -143.0      19.8      24.3      -0.584      -0.284   \n",
       "4       28.30      31.3      45.2      27.3      24.5      34.800      -5.790   \n",
       "\n",
       "   mean_d_2_a  mean_d_3_a  mean_d_4_a  ...  fft_740_b  fft_741_b  fft_742_b  \\\n",
       "0      -15.70        2.06        3.15  ...       74.3       23.5       20.3   \n",
       "1        2.88        3.83       -4.82  ...      130.0      -23.3      -21.8   \n",
       "2       90.20       89.90        2.03  ...     -534.0      462.0     -233.0   \n",
       "3        8.82        2.30       -1.97  ...     -183.0      299.0     -243.0   \n",
       "4        3.06       41.40        5.52  ...      114.0       12.0       38.1   \n",
       "\n",
       "   fft_743_b  fft_744_b  fft_745_b  fft_746_b  fft_747_b  fft_748_b  fft_749_b  \n",
       "0       20.3       23.5     -215.0     280.00    -162.00    -162.00     280.00  \n",
       "1      -21.8      -23.3      182.0       2.57     -31.60     -31.60       2.57  \n",
       "2     -233.0      462.0     -267.0     281.00    -148.00    -148.00     281.00  \n",
       "3     -243.0      299.0      132.0     -12.40       9.53       9.53     -12.40  \n",
       "4       38.1       12.0      119.0     -17.60      23.90      23.90     -17.60  \n",
       "\n",
       "[5 rows x 2548 columns]"
      ]
     },
     "execution_count": 3,
     "metadata": {},
     "output_type": "execute_result"
    }
   ],
   "source": [
    "label_df=train_df['label']\n",
    "train_df.drop('label', axis=1, inplace=True)\n",
    "train_df.head()"
   ]
  },
  {
   "cell_type": "markdown",
   "metadata": {},
   "source": [
    "# Random Forest Classifier"
   ]
  },
  {
   "cell_type": "code",
   "execution_count": 8,
   "metadata": {},
   "outputs": [],
   "source": [
    "#Using cross validation (10 fold in this case)\n",
    "#Pipeline based approach\n",
    "#No of dimensions are high. Hence we will start with random forest classifier which works well on high-dimension data\n",
    "#Since its probablity based classifier, no pre-processing stages like scaling or noise removal are required\n",
    "#not affected by scale factors"
   ]
  },
  {
   "cell_type": "code",
   "execution_count": 9,
   "metadata": {},
   "outputs": [
    {
     "name": "stdout",
     "output_type": "stream",
     "text": [
      "Accuracy for Random Forest =  0.9803053233992548\n",
      "CPU times: user 4.8 s, sys: 325 ms, total: 5.13 s\n",
      "Wall time: 5.58 s\n"
     ]
    }
   ],
   "source": [
    "%%time\n",
    "from sklearn.pipeline import Pipeline\n",
    "from sklearn.ensemble import RandomForestClassifier\n",
    "from sklearn.model_selection import cross_val_score, train_test_split\n",
    "\n",
    "\n",
    "model_randomForest=Pipeline(steps=[('random_forest', RandomForestClassifier())])\n",
    "scores=cross_val_score(model_randomForest, train_df, label_df, cv=10, scoring='accuracy')\n",
    "print('Accuracy for Random Forest = ', scores.mean())"
   ]
  },
  {
   "cell_type": "markdown",
   "metadata": {},
   "source": [
    "###### Accuracy is good and total time taken is short (4.34 secs)\n"
   ]
  },
  {
   "cell_type": "markdown",
   "metadata": {},
   "source": [
    "# Logistic Regression Classifier"
   ]
  },
  {
   "cell_type": "code",
   "execution_count": 12,
   "metadata": {},
   "outputs": [
    {
     "name": "stdout",
     "output_type": "stream",
     "text": [
      "Accuracy for Logistic Regression=  0.9319778573108491\n",
      "CPU times: user 3min 20s, sys: 1.85 s, total: 3min 21s\n",
      "Wall time: 3min 26s\n"
     ]
    }
   ],
   "source": [
    "%%time\n",
    "\n",
    "from sklearn.pipeline import Pipeline\n",
    "from sklearn.preprocessing import StandardScaler\n",
    "from sklearn.linear_model import LogisticRegression\n",
    "from sklearn.model_selection import cross_val_score, train_test_split\n",
    "\n",
    "\n",
    "model_logisticRegression=Pipeline(steps=[('scalar', StandardScaler()),\n",
    "                                         ('log_reg', LogisticRegression(multi_class='multinomial', solver='saga', max_iter=200))])\n",
    "scores=cross_val_score(model_logisticRegression, train_df, label_df, cv=10, scoring='accuracy')\n",
    "print('Accuracy for Logistic Regression= ', scores.mean())"
   ]
  },
  {
   "cell_type": "markdown",
   "metadata": {},
   "source": [
    "#### Accuracy less than Random Forest Classifier and time taken is higher"
   ]
  },
  {
   "cell_type": "markdown",
   "metadata": {},
   "source": [
    "# PCA "
   ]
  },
  {
   "cell_type": "code",
   "execution_count": 17,
   "metadata": {},
   "outputs": [
    {
     "name": "stdout",
     "output_type": "stream",
     "text": [
      "Explained variance ratio by Principal Component  1  :  0.36772564117538736\n",
      "Explained variance ratio by Principal Component  2  :  0.0955389425723261\n",
      "Explained variance ratio by Principal Component  3  :  0.08436069000482477\n",
      "Explained variance ratio by Principal Component  4  :  0.06085665181970161\n",
      "Explained variance ratio by Principal Component  5  :  0.047453732926251366\n",
      "Explained variance ratio by Principal Component  6  :  0.03082305251847145\n",
      "Explained variance ratio by Principal Component  7  :  0.02472162086092134\n",
      "Explained variance ratio by Principal Component  8  :  0.013753055070734571\n",
      "Explained variance ratio by Principal Component  9  :  0.01240870272031596\n",
      "Explained variance ratio by Principal Component  10  :  0.01210365357198472\n",
      "Explained variance ratio by Principal Component  11  :  0.009557100566773603\n",
      "Explained variance ratio by Principal Component  12  :  0.009164311014336943\n",
      "Explained variance ratio by Principal Component  13  :  0.008740057322360297\n",
      "Explained variance ratio by Principal Component  14  :  0.0079743619054903\n",
      "Explained variance ratio by Principal Component  15  :  0.007059816405119661\n",
      "Explained variance ratio by Principal Component  16  :  0.006330683678882539\n",
      "Explained variance ratio by Principal Component  17  :  0.005871847500968673\n",
      "Explained variance ratio by Principal Component  18  :  0.005474310883770021\n",
      "Explained variance ratio by Principal Component  19  :  0.0050179478064076195\n",
      "Explained variance ratio by Principal Component  20  :  0.004659500577626113\n"
     ]
    }
   ],
   "source": [
    "from sklearn.decomposition import PCA\n",
    "from sklearn.preprocessing import StandardScaler\n",
    "\n",
    "scaler=StandardScaler()\n",
    "scaled_df=scaler.fit_transform(train_df)\n",
    "pca=PCA(n_components=20)\n",
    "pca_vectors=pca.fit_transform(scaled_df)\n",
    "for index, var in enumerate(pca.explained_variance_ratio_):\n",
    "    print(\"Explained variance ratio by Principal Component \", (index+1) ,\" : \" , var)"
   ]
  },
  {
   "cell_type": "code",
   "execution_count": 19,
   "metadata": {},
   "outputs": [],
   "source": [
    "#Using mathematical mapping 2549 variables mapped to 20 variables\n",
    "#Of 2549 variables, 10 are of most importance"
   ]
  },
  {
   "cell_type": "code",
   "execution_count": 22,
   "metadata": {},
   "outputs": [
    {
     "data": {
      "image/png": "[encoded data removed]",
      "text/plain": [
       "<Figure size 1800x576 with 1 Axes>"
      ]
     },
     "metadata": {
      "needs_background": "light"
     },
     "output_type": "display_data"
    }
   ],
   "source": [
    "plt.figure(figsize=(25,8))\n",
    "sns.scatterplot(x=pca_vectors[:,0], y=pca_vectors[:,1],\n",
    "               hue=label_df)\n",
    "plt.title('PC V/s Class', fontsize=14)\n",
    "plt.xlabel('PC 1', fontsize=14)\n",
    "plt.ylabel('PC 2', fontsize=14)\n",
    "plt.xticks(rotation='vertical');"
   ]
  },
  {
   "cell_type": "code",
   "execution_count": 27,
   "metadata": {},
   "outputs": [],
   "source": [
    "# it can be seen that if we use Logistic regression the first classifier will seperate NEUTRAL class from other two\n",
    "# and the second classifier will seperate NEGATIVE and POSITIVE\n",
    "# Applying Logistic regression model on 2 main PCs"
   ]
  },
  {
   "cell_type": "code",
   "execution_count": 26,
   "metadata": {},
   "outputs": [
    {
     "name": "stdout",
     "output_type": "stream",
     "text": [
      "Accuracy for Logistic Regression : 0.7752487834538495\n",
      "CPU times: user 6.81 s, sys: 480 ms, total: 7.29 s\n",
      "Wall time: 3.75 s\n"
     ]
    }
   ],
   "source": [
    "%%time\n",
    "\n",
    "from sklearn.pipeline import Pipeline\n",
    "from sklearn.preprocessing import StandardScaler\n",
    "from sklearn.linear_model import LogisticRegression\n",
    "from sklearn.model_selection import cross_val_score, train_test_split\n",
    "\n",
    "model_lg_pca=Pipeline(steps=[('scaler', StandardScaler()),\n",
    "                            ('pca', PCA(n_components=2)),\n",
    "                            ('log_reg', LogisticRegression(multi_class='multinomial', solver='saga',max_iter=200 ))])\n",
    "scores=cross_val_score(model_lg_pca, train_df, label_df, cv=10, scoring='accuracy')\n",
    "print('Accuracy for Logistic Regression :', scores.mean())"
   ]
  },
  {
   "cell_type": "markdown",
   "metadata": {},
   "source": [
    "### Accuracy reduced but time improved sigificantly for Logistic Regression model"
   ]
  },
  {
   "cell_type": "code",
   "execution_count": 28,
   "metadata": {},
   "outputs": [],
   "source": [
    "# Taking 10 PCs and running the model "
   ]
  },
  {
   "cell_type": "code",
   "execution_count": 30,
   "metadata": {},
   "outputs": [
    {
     "name": "stdout",
     "output_type": "stream",
     "text": [
      "Accuracy for Logistic Regressionwith 10 PCs : 0.8653753841054328\n",
      "CPU times: user 7.46 s, sys: 398 ms, total: 7.86 s\n",
      "Wall time: 4.25 s\n"
     ]
    }
   ],
   "source": [
    "%%time\n",
    "from sklearn.pipeline import Pipeline\n",
    "from sklearn.preprocessing import StandardScaler\n",
    "from sklearn.linear_model import LogisticRegression\n",
    "from sklearn.model_selection import cross_val_score, train_test_split\n",
    "\n",
    "model_lg_pca_10=Pipeline(steps=[('Scaler', StandardScaler()),\n",
    "                               ('pca', PCA(n_components=10)),\n",
    "                               ('log_reg', LogisticRegression(multi_class='multinomial', solver='saga', max_iter=200))])\n",
    "\n",
    "scores=cross_val_score(model_lg_pca_10, train_df, label_df, cv=10, scoring='accuracy')\n",
    "print('Accuracy for Logistic Regressionwith 10 PCs :', scores.mean())"
   ]
  },
  {
   "cell_type": "markdown",
   "metadata": {},
   "source": [
    "### Improved Accuracy of 86% compared to 2 PC cases with marginal increase in time taken"
   ]
  },
  {
   "cell_type": "markdown",
   "metadata": {},
   "source": [
    "# Artifical Neural Network Classifier (ANN)"
   ]
  },
  {
   "cell_type": "code",
   "execution_count": 37,
   "metadata": {},
   "outputs": [
    {
     "name": "stdout",
     "output_type": "stream",
     "text": [
      "Accuracy for ANN Classifier:  0.9723083091126228\n",
      "CPU times: user 11min 31s, sys: 1min 19s, total: 12min 50s\n",
      "Wall time: 12min 48s\n"
     ]
    }
   ],
   "source": [
    "%%time\n",
    "\n",
    "from sklearn.pipeline import Pipeline\n",
    "from sklearn.preprocessing import StandardScaler\n",
    "from sklearn.neural_network import MLPClassifier\n",
    "from sklearn.model_selection import cross_val_score, train_test_split\n",
    "model_mlp=Pipeline(steps=[('scaler', StandardScaler()),\n",
    "                         ('mlp_classifier', MLPClassifier(hidden_layer_sizes=(1275, 637)))])\n",
    "scores=cross_val_score(model_mlp, train_df, label_df, cv=10, scoring='accuracy')\n",
    "print('Accuracy for ANN Classifier: ', scores.mean())"
   ]
  },
  {
   "cell_type": "markdown",
   "metadata": {},
   "source": [
    "### Accuracy is good (97%) but time taken increases"
   ]
  },
  {
   "cell_type": "code",
   "execution_count": 38,
   "metadata": {},
   "outputs": [],
   "source": [
    "# General convention is to start with 50% of the data size for the first hidden layer \n",
    "# and 50% of previous size in subsequent layer \n",
    "# Number of hidden layers can be taken as a hyper-parameter and can be used to tune for better accuracy\n",
    "# Hidden layers in this ccase is 2"
   ]
  },
  {
   "cell_type": "markdown",
   "metadata": {},
   "source": [
    "# Linear Support Vector Machines Classifier"
   ]
  },
  {
   "cell_type": "code",
   "execution_count": 39,
   "metadata": {},
   "outputs": [
    {
     "name": "stdout",
     "output_type": "stream",
     "text": [
      "Accuracy for Linear SVM : 0.9643467083227542\n",
      "CPU times: user 1min 12s, sys: 1.38 s, total: 1min 13s\n",
      "Wall time: 1min 14s\n"
     ]
    }
   ],
   "source": [
    "%%time\n",
    "\n",
    "from sklearn.pipeline import Pipeline\n",
    "from sklearn.preprocessing import StandardScaler\n",
    "from sklearn.svm import LinearSVC\n",
    "from sklearn.model_selection import cross_val_score, train_test_split\n",
    "\n",
    "model_SVM=Pipeline(steps=[('Scaler', StandardScaler()),\n",
    "                         ('svm', LinearSVC())])\n",
    "scores=cross_val_score(model_SVM, train_df, label_df, cv=10, scoring='accuracy')\n",
    "print('Accuracy for Linear SVM :', scores.mean())\n"
   ]
  },
  {
   "cell_type": "markdown",
   "metadata": {},
   "source": [
    "### Accuracy little less than Random Forest Classifier but more time efficient than ANN"
   ]
  },
  {
   "cell_type": "markdown",
   "metadata": {},
   "source": [
    "# Extreme Gradient Boosting Classifier (XGBoost)"
   ]
  },
  {
   "cell_type": "code",
   "execution_count": 4,
   "metadata": {},
   "outputs": [
    {
     "name": "stdout",
     "output_type": "stream",
     "text": [
      "Accuracy for Extreme Gradient Boosting is : 0.9943615599489364\n",
      "CPU times: user 19min 5s, sys: 5.05 s, total: 19min 10s\n",
      "Wall time: 19min 22s\n"
     ]
    }
   ],
   "source": [
    "%%time\n",
    "from sklearn.pipeline import Pipeline\n",
    "from sklearn.model_selection import cross_val_score, train_test_split\n",
    "import os\n",
    "os.environ['KMP_DUPLICATE_LIB_OK']='True'\n",
    "import xgboost as xgb\n",
    "\n",
    "model_xgb=Pipeline(steps=\n",
    "                   [('xgboost', xgb.XGBClassifier(objective='multi:softmax'))])\n",
    "scores=cross_val_score(model_xgb, train_df, label_df, cv=10, scoring='accuracy')\n",
    "print('Accuracy for Extreme Gradient Boosting is :', scores.mean())"
   ]
  },
  {
   "cell_type": "markdown",
   "metadata": {},
   "source": [
    "### Accuracy is maximum for XGBoost but time taken is quite high.\n",
    "high running time due to internal ensemble model structure"
   ]
  },
  {
   "cell_type": "code",
   "execution_count": null,
   "metadata": {},
   "outputs": [],
   "source": []
  }
 ],
 "metadata": {
  "kernelspec": {
   "display_name": "Python 3",
   "language": "python",
   "name": "python3"
  },
  "language_info": {
   "codemirror_mode": {
    "name": "ipython",
    "version": 3
   },
   "file_extension": ".py",
   "mimetype": "text/x-python",
   "name": "python",
   "nbconvert_exporter": "python",
   "pygments_lexer": "ipython3",
   "version": "3.7.3"
  }
 },
 "nbformat": 4,
 "nbformat_minor": 2
}
